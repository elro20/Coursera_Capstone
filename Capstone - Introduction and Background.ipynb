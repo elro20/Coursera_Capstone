{
 "cells": [
  {
   "cell_type": "markdown",
   "metadata": {},
   "source": [
    "# Suburb Selection in Downtown Toronto"
   ]
  },
  {
   "cell_type": "markdown",
   "metadata": {},
   "source": [
    "### Introduction and Background"
   ]
  },
  {
   "cell_type": "markdown",
   "metadata": {},
   "source": [
    "Downtown Toronto is the main central business district of Toronto, Ontario, Canada. There are approximately 600 retail stores, 150 bars and restaurants and 7 hotels. In recent years the area has been experiencing artistic changes including opening live theatres and a movie complex. Lots of people are migrating to Canada especially in recent years.\n",
    "\n",
    "The purpose of this project is to help people make better decisions when choosing a neighbourhood to stay in Downtown Toronto. This includes facilities such as shopping centres, supermarkets, cafes etc as well as public transport, school ratings if they have kids.\n",
    "\n",
    "This project aim to select top 5 suburbs for students based on the factors mentioned above. "
   ]
  },
  {
   "cell_type": "code",
   "execution_count": null,
   "metadata": {},
   "outputs": [],
   "source": []
  }
 ],
 "metadata": {
  "kernelspec": {
   "display_name": "Python 3",
   "language": "python",
   "name": "python3"
  },
  "language_info": {
   "codemirror_mode": {
    "name": "ipython",
    "version": 3
   },
   "file_extension": ".py",
   "mimetype": "text/x-python",
   "name": "python",
   "nbconvert_exporter": "python",
   "pygments_lexer": "ipython3",
   "version": "3.7.4"
  }
 },
 "nbformat": 4,
 "nbformat_minor": 2
}
